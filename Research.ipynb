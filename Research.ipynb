{
  "nbformat": 4,
  "nbformat_minor": 0,
  "metadata": {
    "colab": {
      "provenance": []
    },
    "kernelspec": {
      "name": "python3",
      "display_name": "Python 3"
    },
    "language_info": {
      "name": "python"
    }
  },
  "cells": [
    {
      "cell_type": "markdown",
      "source": [
        "RUN THIS IN GOOGLE COLAB\n"
      ],
      "metadata": {
        "id": "Eosxo4PR-_CN"
      }
    },
    {
      "cell_type": "code",
      "execution_count": null,
      "metadata": {
        "id": "r_8eQtDRq0Vl"
      },
      "outputs": [],
      "source": [
        "!pip install python-dotenv\n",
        "!pip install langchain\n",
        "!pip install openai\n",
        "!pip install tiktoken\n",
        "!pip install streamlit\n",
        "!pip install unstructured\n",
        "!pip install faiss-gpu"
      ]
    },
    {
      "cell_type": "code",
      "source": [
        "import os\n",
        "from dotenv import load_dotenv, find_dotenv\n",
        "_ = load_dotenv(find_dotenv())\n",
        "OPENAIKEY=os.environ['OPENAI_API_KEY']"
      ],
      "metadata": {
        "id": "eYmvqKazs81a"
      },
      "execution_count": null,
      "outputs": []
    },
    {
      "cell_type": "code",
      "source": [
        "from langchain.llms import OpenAI\n",
        "llm = OpenAI(temperature=0.6)\n",
        "name = llm(\"I want to open a restaurant for indian food.suggest me a fancy name for this\")\n",
        "print(name)"
      ],
      "metadata": {
        "id": "1iIVIhfNt04S"
      },
      "execution_count": null,
      "outputs": []
    },
    {
      "cell_type": "code",
      "source": [
        "from langchain.agents import AgentType, initialize_agent, load_tools\n",
        "from langchain.agents import load_tools\n",
        "tools = load_tools([\"serpapi\"],llm=llm)\n",
        "agent = initialize_agent(tools,llm,agent=AgentType.ZERO_SHOT_REACT_DESCRIPTION,verbose=True)\n",
        "agent.run(\"who won the latest india vs australia cricket match\")"
      ],
      "metadata": {
        "id": "S7biLnVW0sAn"
      },
      "execution_count": null,
      "outputs": []
    },
    {
      "cell_type": "code",
      "source": [
        "import os\n",
        "import streamlit as st\n",
        "import pickle\n",
        "import time\n",
        "import langchain\n",
        "from langchain import OpenAI\n",
        "from langchain.chains import RetrievalQAWithSourcesChain\n",
        "from langchain.chains.qa_with_sources.loading import load_qa_with_sources_chain\n",
        "from langchain.text_splitter import RecursiveCharacterTextSplitter\n",
        "from langchain.document_loaders import UnstructuredURLLoader\n",
        "from langchain.embeddings import OpenAIEmbeddings\n",
        "from langchain.vectorstores import FAISS"
      ],
      "metadata": {
        "id": "7jW3azTv2NSB"
      },
      "execution_count": 6,
      "outputs": []
    },
    {
      "cell_type": "code",
      "source": [
        "llm = OpenAI(temperature=0.9, max_tokens=500)"
      ],
      "metadata": {
        "id": "N8YPTBT_3QuY"
      },
      "execution_count": 10,
      "outputs": []
    },
    {
      "cell_type": "code",
      "source": [
        "loaders = UnstructuredURLLoader(urls=[\n",
        "    \"https://www.moneycontrol.com/news/business/markets/wall-street-rises-as-tesla-soars-on-ai-optimism-11351111.html\",\n",
        "    \"https://www.moneycontrol.com/news/business/tata-motors-launches-punch-icng-price-starts-at-rs-7-1-lakh-11098751.html\"\n",
        "])\n",
        "data = loaders.load()\n",
        "len(data)"
      ],
      "metadata": {
        "id": "rNX3SXUy3UlY"
      },
      "execution_count": null,
      "outputs": []
    },
    {
      "cell_type": "code",
      "source": [
        "text_splitter = RecursiveCharacterTextSplitter(\n",
        "    chunk_size=1000,\n",
        "    chunk_overlap=200\n",
        ")\n",
        "\n",
        "# As data is of type documents we can directly use split_documents over split_text in order to get the chunks.\n",
        "docs = text_splitter.split_documents(data)"
      ],
      "metadata": {
        "id": "xIEW-QLi3wTO"
      },
      "execution_count": 14,
      "outputs": []
    },
    {
      "cell_type": "code",
      "source": [
        "docs[0]"
      ],
      "metadata": {
        "id": "LVMqYbYZ3yil"
      },
      "execution_count": null,
      "outputs": []
    },
    {
      "cell_type": "code",
      "source": [
        "# Create the embeddings of the chunks using openAIEmbeddings\n",
        "embeddings = OpenAIEmbeddings()\n",
        "\n",
        "# Pass the documents and embeddings inorder to create FAISS vector index\n",
        "vectorindex_openai = FAISS.from_documents(docs, embeddings)"
      ],
      "metadata": {
        "id": "yLXL-0DS39s8"
      },
      "execution_count": 19,
      "outputs": []
    },
    {
      "cell_type": "code",
      "source": [
        "file_path=\"vector_index.pkl\"\n",
        "with open(file_path, \"wb\") as f:\n",
        "    pickle.dump(vectorindex_openai, f)"
      ],
      "metadata": {
        "id": "A4ZFMQyA4UMM"
      },
      "execution_count": 20,
      "outputs": []
    },
    {
      "cell_type": "code",
      "source": [
        "if os.path.exists(file_path):\n",
        "    with open(file_path, \"rb\") as f:\n",
        "        vectorIndex = pickle.load(f)"
      ],
      "metadata": {
        "id": "N5RiwZqU4XpM"
      },
      "execution_count": 21,
      "outputs": []
    },
    {
      "cell_type": "code",
      "source": [
        "chain = RetrievalQAWithSourcesChain.from_llm(llm=llm, retriever=vectorIndex.as_retriever())\n",
        "chain"
      ],
      "metadata": {
        "id": "fM4dCmsx4f31"
      },
      "execution_count": null,
      "outputs": []
    },
    {
      "cell_type": "code",
      "source": [
        "query = \"what is the price of Tiago iCNG?\"\n",
        "# query = \"what are the main features of punch iCNG?\"\n",
        "\n",
        "langchain.debug=True\n",
        "\n",
        "chain({\"question\": query}, return_only_outputs=True)"
      ],
      "metadata": {
        "id": "Er7lw2Mz4jKc"
      },
      "execution_count": null,
      "outputs": []
    },
    {
      "cell_type": "code",
      "source": [
        "%%writefile main.py\n",
        "import os\n",
        "import streamlit as st\n",
        "import pickle\n",
        "import time\n",
        "from langchain import OpenAI\n",
        "from langchain.chains import RetrievalQAWithSourcesChain\n",
        "from langchain.text_splitter import RecursiveCharacterTextSplitter\n",
        "from langchain.document_loaders import UnstructuredURLLoader\n",
        "from langchain.embeddings import OpenAIEmbeddings\n",
        "from langchain.vectorstores import FAISS\n",
        "\n",
        "from dotenv import load_dotenv\n",
        "load_dotenv()  # take environment variables from .env (especially openai api key)\n",
        "\n",
        "st.title(\"NewsBot\")\n",
        "st.sidebar.title(\"News Article URLs\")\n",
        "\n",
        "urls = []\n",
        "for i in range(4):\n",
        "    url = st.sidebar.text_input(f\"URL {i+1}\")\n",
        "    urls.append(url)\n",
        "\n",
        "process_url_clicked = st.sidebar.button(\"Process URLs\")\n",
        "file_path = \"faiss_store_openai.pkl\"\n",
        "\n",
        "main_placeholder = st.empty()\n",
        "llm = OpenAI(temperature=0.9, max_tokens=500)\n",
        "\n",
        "if process_url_clicked:\n",
        "    # load data\n",
        "    loader = UnstructuredURLLoader(urls=urls)\n",
        "    main_placeholder.text(\"Data Loading...Started...✅✅✅\")\n",
        "    data = loader.load()\n",
        "    # split data\n",
        "    text_splitter = RecursiveCharacterTextSplitter(\n",
        "        separators=['\\n\\n', '\\n', '.', ','],\n",
        "        chunk_size=1000\n",
        "    )\n",
        "    main_placeholder.text(\"Text Splitter...Started...✅✅✅\")\n",
        "    docs = text_splitter.split_documents(data)\n",
        "    # create embeddings and save it to FAISS index\n",
        "    embeddings = OpenAIEmbeddings()\n",
        "    vectorstore_openai = FAISS.from_documents(docs, embeddings)\n",
        "    main_placeholder.text(\"Embedding Vector Started Building...✅✅✅\")\n",
        "    time.sleep(2)\n",
        "\n",
        "    # Save the FAISS index to a pickle file\n",
        "    with open(file_path, \"wb\") as f:\n",
        "        pickle.dump(vectorstore_openai, f)\n",
        "\n",
        "query = main_placeholder.text_input(\"Question: \")\n",
        "if query:\n",
        "    if os.path.exists(file_path):\n",
        "        with open(file_path, \"rb\") as f:\n",
        "            vectorstore = pickle.load(f)\n",
        "            chain = RetrievalQAWithSourcesChain.from_llm(llm=llm, retriever=vectorstore.as_retriever())\n",
        "            result = chain({\"question\": query}, return_only_outputs=True)\n",
        "            # result will be a dictionary of this format --> {\"answer\": \"\", \"sources\": [] }\n",
        "            st.header(\"Answer\")\n",
        "            st.write(result[\"answer\"])\n",
        "\n",
        "            # Display sources, if available\n",
        "            sources = result.get(\"sources\", \"\")\n",
        "            if sources:\n",
        "                st.subheader(\"Sources:\")\n",
        "                sources_list = sources.split(\"\\n\")  # Split the sources by newline\n",
        "                for source in sources_list:\n",
        "                    st.write(source)"
      ],
      "metadata": {
        "colab": {
          "base_uri": "https://localhost:8080/"
        },
        "id": "sebMpGxr5jlP",
        "outputId": "6ea941c1-bcd9-4f6e-b590-1f9138ddfed1"
      },
      "execution_count": 26,
      "outputs": [
        {
          "output_type": "stream",
          "name": "stdout",
          "text": [
            "Overwriting main.py\n"
          ]
        }
      ]
    },
    {
      "cell_type": "code",
      "source": [
        "!streamlit run main.py & npx localtunnel --port 8501"
      ],
      "metadata": {
        "id": "iF0xcJmx59eD"
      },
      "execution_count": null,
      "outputs": []
    }
  ]
}